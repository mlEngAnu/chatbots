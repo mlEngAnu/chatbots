{
  "nbformat": 4,
  "nbformat_minor": 0,
  "metadata": {
    "colab": {
      "provenance": [],
      "authorship_tag": "ABX9TyPbqWtJlX2Oax/OBrOmLhCj",
      "include_colab_link": true
    },
    "kernelspec": {
      "name": "python3",
      "display_name": "Python 3"
    },
    "language_info": {
      "name": "python"
    }
  },
  "cells": [
    {
      "cell_type": "markdown",
      "metadata": {
        "id": "view-in-github",
        "colab_type": "text"
      },
      "source": [
        "<a href=\"https://colab.research.google.com/github/mlEngAnu/chatbots/blob/main/simple_chatbot.ipynb\" target=\"_parent\"><img src=\"https://colab.research.google.com/assets/colab-badge.svg\" alt=\"Open In Colab\"/></a>"
      ]
    },
    {
      "cell_type": "code",
      "execution_count": 2,
      "metadata": {
        "colab": {
          "base_uri": "https://localhost:8080/",
          "height": 1000
        },
        "id": "oGYGgnpLD3NE",
        "outputId": "3122200f-71e4-4387-f20b-9c27eef22b2e"
      },
      "outputs": [
        {
          "output_type": "stream",
          "name": "stdout",
          "text": [
            "Looking in indexes: https://pypi.org/simple, https://us-python.pkg.dev/colab-wheels/public/simple/\n",
            "Collecting chatterbot\n",
            "  Downloading ChatterBot-1.0.5-py2.py3-none-any.whl (67 kB)\n",
            "\u001b[K     |████████████████████████████████| 67 kB 3.1 MB/s \n",
            "\u001b[?25hRequirement already satisfied: nltk<4.0,>=3.2 in /usr/local/lib/python3.8/dist-packages (from chatterbot) (3.7)\n",
            "Collecting spacy<2.2,>=2.1\n",
            "  Downloading spacy-2.1.9.tar.gz (30.7 MB)\n",
            "\u001b[K     |████████████████████████████████| 30.7 MB 1.3 MB/s \n",
            "\u001b[?25h  Installing build dependencies ... \u001b[?25l\u001b[?25hdone\n",
            "  Getting requirements to build wheel ... \u001b[?25l\u001b[?25hdone\n",
            "    Preparing wheel metadata ... \u001b[?25l\u001b[?25hdone\n",
            "Collecting pyyaml<5.2,>=5.1\n",
            "  Downloading PyYAML-5.1.2.tar.gz (265 kB)\n",
            "\u001b[K     |████████████████████████████████| 265 kB 62.8 MB/s \n",
            "\u001b[?25hCollecting pint>=0.8.1\n",
            "  Downloading Pint-0.20.1-py3-none-any.whl (269 kB)\n",
            "\u001b[K     |████████████████████████████████| 269 kB 60.5 MB/s \n",
            "\u001b[?25hCollecting python-dateutil<2.8,>=2.7\n",
            "  Downloading python_dateutil-2.7.5-py2.py3-none-any.whl (225 kB)\n",
            "\u001b[K     |████████████████████████████████| 225 kB 75.9 MB/s \n",
            "\u001b[?25hCollecting mathparse<0.2,>=0.1\n",
            "  Downloading mathparse-0.1.2-py3-none-any.whl (7.2 kB)\n",
            "Requirement already satisfied: pytz in /usr/local/lib/python3.8/dist-packages (from chatterbot) (2022.6)\n",
            "Collecting pymongo<4.0,>=3.3\n",
            "  Downloading pymongo-3.13.0-cp38-cp38-manylinux_2_17_x86_64.manylinux2014_x86_64.whl (526 kB)\n",
            "\u001b[K     |████████████████████████████████| 526 kB 58.5 MB/s \n",
            "\u001b[?25hCollecting sqlalchemy<1.3,>=1.2\n",
            "  Downloading SQLAlchemy-1.2.19.tar.gz (5.7 MB)\n",
            "\u001b[K     |████████████████████████████████| 5.7 MB 58.2 MB/s \n",
            "\u001b[?25hRequirement already satisfied: regex>=2021.8.3 in /usr/local/lib/python3.8/dist-packages (from nltk<4.0,>=3.2->chatterbot) (2022.6.2)\n",
            "Requirement already satisfied: click in /usr/local/lib/python3.8/dist-packages (from nltk<4.0,>=3.2->chatterbot) (7.1.2)\n",
            "Requirement already satisfied: joblib in /usr/local/lib/python3.8/dist-packages (from nltk<4.0,>=3.2->chatterbot) (1.2.0)\n",
            "Requirement already satisfied: tqdm in /usr/local/lib/python3.8/dist-packages (from nltk<4.0,>=3.2->chatterbot) (4.64.1)\n",
            "Requirement already satisfied: six>=1.5 in /usr/local/lib/python3.8/dist-packages (from python-dateutil<2.8,>=2.7->chatterbot) (1.15.0)\n",
            "Collecting plac<1.0.0,>=0.9.6\n",
            "  Using cached plac-0.9.6-py2.py3-none-any.whl (20 kB)\n",
            "Requirement already satisfied: cymem<2.1.0,>=2.0.2 in /usr/local/lib/python3.8/dist-packages (from spacy<2.2,>=2.1->chatterbot) (2.0.7)\n",
            "Requirement already satisfied: murmurhash<1.1.0,>=0.28.0 in /usr/local/lib/python3.8/dist-packages (from spacy<2.2,>=2.1->chatterbot) (1.0.9)\n",
            "Requirement already satisfied: numpy>=1.15.0 in /usr/local/lib/python3.8/dist-packages (from spacy<2.2,>=2.1->chatterbot) (1.21.6)\n",
            "Collecting blis<0.3.0,>=0.2.2\n",
            "  Using cached blis-0.2.4-cp38-cp38-linux_x86_64.whl\n",
            "Requirement already satisfied: wasabi<1.1.0,>=0.2.0 in /usr/local/lib/python3.8/dist-packages (from spacy<2.2,>=2.1->chatterbot) (0.10.1)\n",
            "Collecting srsly<1.1.0,>=0.0.6\n",
            "  Using cached srsly-1.0.6-cp38-cp38-manylinux_2_17_x86_64.manylinux2014_x86_64.whl (211 kB)\n",
            "Requirement already satisfied: requests<3.0.0,>=2.13.0 in /usr/local/lib/python3.8/dist-packages (from spacy<2.2,>=2.1->chatterbot) (2.23.0)\n",
            "Collecting thinc<7.1.0,>=7.0.8\n",
            "  Using cached thinc-7.0.8-cp38-cp38-linux_x86_64.whl\n",
            "Collecting preshed<2.1.0,>=2.0.1\n",
            "  Using cached preshed-2.0.1-cp38-cp38-linux_x86_64.whl\n",
            "Requirement already satisfied: chardet<4,>=3.0.2 in /usr/local/lib/python3.8/dist-packages (from requests<3.0.0,>=2.13.0->spacy<2.2,>=2.1->chatterbot) (3.0.4)\n",
            "Requirement already satisfied: urllib3!=1.25.0,!=1.25.1,<1.26,>=1.21.1 in /usr/local/lib/python3.8/dist-packages (from requests<3.0.0,>=2.13.0->spacy<2.2,>=2.1->chatterbot) (1.24.3)\n",
            "Requirement already satisfied: idna<3,>=2.5 in /usr/local/lib/python3.8/dist-packages (from requests<3.0.0,>=2.13.0->spacy<2.2,>=2.1->chatterbot) (2.10)\n",
            "Requirement already satisfied: certifi>=2017.4.17 in /usr/local/lib/python3.8/dist-packages (from requests<3.0.0,>=2.13.0->spacy<2.2,>=2.1->chatterbot) (2022.12.7)\n",
            "Building wheels for collected packages: pyyaml, spacy, sqlalchemy\n",
            "  Building wheel for pyyaml (setup.py) ... \u001b[?25l\u001b[?25hdone\n",
            "  Created wheel for pyyaml: filename=PyYAML-5.1.2-cp38-cp38-linux_x86_64.whl size=44117 sha256=49ac4ca5e7b089b0b953b06facfc256c21c441e6e3a6dd40fac0e079115c3f8a\n",
            "  Stored in directory: /root/.cache/pip/wheels/55/40/9f/027c3d94280ce2b7c2c107cb563a433e6572f830a5462231ae\n",
            "  Building wheel for spacy (PEP 517) ... \u001b[?25l\u001b[?25hdone\n",
            "  Created wheel for spacy: filename=spacy-2.1.9-cp38-cp38-linux_x86_64.whl size=43514298 sha256=86a662bb8eba77c26634d3f6a95edf25a643c5d97071f30a6a5f03bdaa01064b\n",
            "  Stored in directory: /root/.cache/pip/wheels/50/c2/73/989e659e83b30a74acdfcb825e632b1a7dc12f39d58fe37dd6\n",
            "  Building wheel for sqlalchemy (setup.py) ... \u001b[?25l\u001b[?25hdone\n",
            "  Created wheel for sqlalchemy: filename=SQLAlchemy-1.2.19-cp38-cp38-linux_x86_64.whl size=1155355 sha256=bc1a08021704c83e8f6a6a7c0a95d986506c827030e408353da0a939691d1899\n",
            "  Stored in directory: /root/.cache/pip/wheels/0d/13/f8/47c2f3157957c3693caffa64a94a718cb1357fe186e4d52e48\n",
            "Successfully built pyyaml spacy sqlalchemy\n",
            "Installing collected packages: srsly, preshed, plac, blis, thinc, sqlalchemy, spacy, pyyaml, python-dateutil, pymongo, pint, mathparse, chatterbot\n",
            "  Attempting uninstall: srsly\n",
            "    Found existing installation: srsly 2.4.5\n",
            "    Uninstalling srsly-2.4.5:\n",
            "      Successfully uninstalled srsly-2.4.5\n",
            "  Attempting uninstall: preshed\n",
            "    Found existing installation: preshed 3.0.8\n",
            "    Uninstalling preshed-3.0.8:\n",
            "      Successfully uninstalled preshed-3.0.8\n",
            "  Attempting uninstall: blis\n",
            "    Found existing installation: blis 0.7.9\n",
            "    Uninstalling blis-0.7.9:\n",
            "      Successfully uninstalled blis-0.7.9\n",
            "  Attempting uninstall: thinc\n",
            "    Found existing installation: thinc 8.1.5\n",
            "    Uninstalling thinc-8.1.5:\n",
            "      Successfully uninstalled thinc-8.1.5\n",
            "  Attempting uninstall: sqlalchemy\n",
            "    Found existing installation: SQLAlchemy 1.4.45\n",
            "    Uninstalling SQLAlchemy-1.4.45:\n",
            "      Successfully uninstalled SQLAlchemy-1.4.45\n",
            "  Attempting uninstall: spacy\n",
            "    Found existing installation: spacy 3.4.4\n",
            "    Uninstalling spacy-3.4.4:\n",
            "      Successfully uninstalled spacy-3.4.4\n",
            "  Attempting uninstall: pyyaml\n",
            "    Found existing installation: PyYAML 6.0\n",
            "    Uninstalling PyYAML-6.0:\n",
            "      Successfully uninstalled PyYAML-6.0\n",
            "  Attempting uninstall: python-dateutil\n",
            "    Found existing installation: python-dateutil 2.8.2\n",
            "    Uninstalling python-dateutil-2.8.2:\n",
            "      Successfully uninstalled python-dateutil-2.8.2\n",
            "  Attempting uninstall: pymongo\n",
            "    Found existing installation: pymongo 4.3.3\n",
            "    Uninstalling pymongo-4.3.3:\n",
            "      Successfully uninstalled pymongo-4.3.3\n",
            "\u001b[31mERROR: pip's dependency resolver does not currently take into account all the packages that are installed. This behaviour is the source of the following dependency conflicts.\n",
            "prophet 1.1.1 requires python-dateutil>=2.8.0, but you have python-dateutil 2.7.5 which is incompatible.\n",
            "en-core-web-sm 3.4.1 requires spacy<3.5.0,>=3.4.0, but you have spacy 2.1.9 which is incompatible.\n",
            "dask 2022.2.1 requires pyyaml>=5.3.1, but you have pyyaml 5.1.2 which is incompatible.\n",
            "confection 0.0.3 requires srsly<3.0.0,>=2.4.0, but you have srsly 1.0.6 which is incompatible.\u001b[0m\n",
            "Successfully installed blis-0.2.4 chatterbot-1.0.5 mathparse-0.1.2 pint-0.20.1 plac-0.9.6 preshed-2.0.1 pymongo-3.13.0 python-dateutil-2.7.5 pyyaml-5.1.2 spacy-2.1.9 sqlalchemy-1.2.19 srsly-1.0.6 thinc-7.0.8\n"
          ]
        },
        {
          "output_type": "display_data",
          "data": {
            "application/vnd.colab-display-data+json": {
              "pip_warning": {
                "packages": [
                  "dateutil"
                ]
              }
            }
          },
          "metadata": {}
        }
      ],
      "source": [
        "!pip install chatterbot"
      ]
    },
    {
      "cell_type": "code",
      "source": [
        "!pip install chatterbot_corpus"
      ],
      "metadata": {
        "colab": {
          "base_uri": "https://localhost:8080/",
          "height": 467
        },
        "id": "n-QFFZlBGQV-",
        "outputId": "a1904fb3-bafe-4a57-c334-da4617612893"
      },
      "execution_count": 4,
      "outputs": [
        {
          "output_type": "stream",
          "name": "stdout",
          "text": [
            "Looking in indexes: https://pypi.org/simple, https://us-python.pkg.dev/colab-wheels/public/simple/\n",
            "Collecting chatterbot_corpus\n",
            "  Downloading chatterbot_corpus-1.2.0-py2.py3-none-any.whl (117 kB)\n",
            "\u001b[K     |████████████████████████████████| 117 kB 4.8 MB/s \n",
            "\u001b[?25hCollecting PyYAML<4.0,>=3.12\n",
            "  Downloading PyYAML-3.13.tar.gz (270 kB)\n",
            "\u001b[K     |████████████████████████████████| 270 kB 30.3 MB/s \n",
            "\u001b[?25hBuilding wheels for collected packages: PyYAML\n",
            "  Building wheel for PyYAML (setup.py) ... \u001b[?25l\u001b[?25hdone\n",
            "  Created wheel for PyYAML: filename=PyYAML-3.13-cp38-cp38-linux_x86_64.whl size=43098 sha256=2050c4fbb9462f0f8774d2c4b5535952f5d485c45531df924aad519d42edbbb6\n",
            "  Stored in directory: /root/.cache/pip/wheels/db/f2/07/5e58b12bc11255c3fc0a0aca89849050a8ec203d8b4a3c52c0\n",
            "Successfully built PyYAML\n",
            "Installing collected packages: PyYAML, chatterbot-corpus\n",
            "  Attempting uninstall: PyYAML\n",
            "    Found existing installation: PyYAML 5.1.2\n",
            "    Uninstalling PyYAML-5.1.2:\n",
            "      Successfully uninstalled PyYAML-5.1.2\n",
            "\u001b[31mERROR: pip's dependency resolver does not currently take into account all the packages that are installed. This behaviour is the source of the following dependency conflicts.\n",
            "dask 2022.2.1 requires pyyaml>=5.3.1, but you have pyyaml 3.13 which is incompatible.\n",
            "chatterbot 1.0.5 requires pyyaml<5.2,>=5.1, but you have pyyaml 3.13 which is incompatible.\u001b[0m\n",
            "Successfully installed PyYAML-3.13 chatterbot-corpus-1.2.0\n"
          ]
        },
        {
          "output_type": "display_data",
          "data": {
            "application/vnd.colab-display-data+json": {
              "pip_warning": {
                "packages": [
                  "yaml"
                ]
              }
            }
          },
          "metadata": {}
        }
      ]
    },
    {
      "cell_type": "code",
      "source": [
        "from chatterbot import ChatBot\n",
        "from chatterbot.trainers import ListTrainer as ListTrainer"
      ],
      "metadata": {
        "id": "T7r9HE7OGaH_"
      },
      "execution_count": 5,
      "outputs": []
    },
    {
      "cell_type": "code",
      "source": [
        "from chatterbot.logic import logic_adapter\n",
        "my_testbot = ChatBot(name ='Bubba', read_only= True,\n",
        "                 logic_adapters = ['chatterbot.logic.MathematicalEvaluation', 'chatterbot.logic.BestMatch'])"
      ],
      "metadata": {
        "colab": {
          "base_uri": "https://localhost:8080/"
        },
        "id": "V36CaZa4Gt9H",
        "outputId": "bd9b149d-c1dc-4869-8e8e-1b34bf70cd8b"
      },
      "execution_count": 6,
      "outputs": [
        {
          "output_type": "stream",
          "name": "stderr",
          "text": [
            "[nltk_data] Downloading package stopwords to /root/nltk_data...\n",
            "[nltk_data]   Unzipping corpora/stopwords.zip.\n",
            "[nltk_data] Downloading package wordnet to /root/nltk_data...\n",
            "[nltk_data] Downloading package averaged_perceptron_tagger to\n",
            "[nltk_data]     /root/nltk_data...\n",
            "[nltk_data]   Unzipping taggers/averaged_perceptron_tagger.zip.\n"
          ]
        }
      ]
    },
    {
      "cell_type": "code",
      "source": [
        "small_talk = ['hi there!',\n",
        "              'hi',\n",
        "              'Hello',\n",
        "              'Hey',\n",
        "              'How are you?',\n",
        "              'Great! How are you doing?',\n",
        "              'What’s up?',\n",
        "              'Oh, just the usual.',\n",
        "              'I/m Happy',\n",
        "              'glad to hear that 🤗',\n",
        "              'not so good',\n",
        "              'I am sorry to hear that',\n",
        "              'what is your name?',\n",
        "              'I am Bubba the chatbot Please ask me a math question']\n",
        "\n",
        "math_talk = ['pythagorean theorem',\n",
        "               'a squared plus b squared equals c squared (Hypotenuse2 = Base2 + Perpendicular2)']\n"
      ],
      "metadata": {
        "id": "2pSceOE0HO2O"
      },
      "execution_count": 7,
      "outputs": []
    },
    {
      "cell_type": "code",
      "source": [
        "from chatterbot.trainers import ListTrainer\n",
        "list_trainer = ListTrainer(my_testbot)\n",
        "for item in (small_talk, math_talk):\n",
        "  list_trainer.train(item)"
      ],
      "metadata": {
        "colab": {
          "base_uri": "https://localhost:8080/"
        },
        "id": "-c4mPZM6I2kH",
        "outputId": "73708cad-d5e1-45ec-b984-28dbd2a29378"
      },
      "execution_count": 8,
      "outputs": [
        {
          "output_type": "stream",
          "name": "stdout",
          "text": [
            "\rList Trainer: [#                   ] 7%"
          ]
        },
        {
          "output_type": "stream",
          "name": "stderr",
          "text": [
            "/usr/local/lib/python3.8/dist-packages/chatterbot/corpus.py:38: YAMLLoadWarning: calling yaml.load() without Loader=... is deprecated, as the default Loader is unsafe. Please read https://msg.pyyaml.org/load for full details.\n",
            "  return yaml.load(data_file)\n"
          ]
        },
        {
          "output_type": "stream",
          "name": "stdout",
          "text": [
            "List Trainer: [####################] 100%\n",
            "List Trainer: [####################] 100%\n"
          ]
        }
      ]
    },
    {
      "cell_type": "code",
      "source": [
        "print(my_testbot.get_response(\"I'm happy\"))"
      ],
      "metadata": {
        "colab": {
          "base_uri": "https://localhost:8080/"
        },
        "id": "MpyfYaE-K-P0",
        "outputId": "bfd5a037-9fc5-4b4e-f20f-899d52e937ea"
      },
      "execution_count": 9,
      "outputs": [
        {
          "output_type": "stream",
          "name": "stdout",
          "text": [
            "glad to hear that 🤗\n"
          ]
        }
      ]
    },
    {
      "cell_type": "code",
      "source": [
        "print(my_testbot.get_response(\"what is your name?\"))"
      ],
      "metadata": {
        "colab": {
          "base_uri": "https://localhost:8080/"
        },
        "id": "kldGobF5RY81",
        "outputId": "a301f018-63ee-4775-b3d6-335323c30b6f"
      },
      "execution_count": 10,
      "outputs": [
        {
          "output_type": "stream",
          "name": "stdout",
          "text": [
            "I am Bubba the chatbot Please ask me a math question\n"
          ]
        }
      ]
    }
  ]
}